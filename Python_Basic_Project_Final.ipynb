{
  "cells": [
    {
      "cell_type": "code",
      "execution_count": null,
      "metadata": {
        "id": "XTZNlbRO4sSo"
      },
      "outputs": [],
      "source": [
        "# BASIC PROJECT ON PYTHON #"
      ]
    },
    {
      "cell_type": "code",
      "execution_count": 1,
      "metadata": {
        "colab": {
          "base_uri": "https://localhost:8080/"
        },
        "id": "fFI-xz8n4yrk",
        "outputId": "29b712cd-b9df-4fab-8414-5bfa1f3a394c"
      },
      "outputs": [
        {
          "name": "stdout",
          "output_type": "stream",
          "text": [
            "['Mahesh', 'Ali', 'Jacob']\n"
          ]
        }
      ],
      "source": [
        "'''\n",
        "Q1: You are working in a bank, and you have been given two lists of the employees who worked in 2021.\n",
        "    Employees' names in list 1 are Ramesh, Suresh, Mahesh, Ali, Jacob, and Saritha.\n",
        "    List 2 contains the names of Ali, Mukesh, Mahesh, Jacob, Sai, and Sarita.\n",
        "    Please write a program that helps to identify people who are common in both lists.\n",
        "    Please do not use any in-built function.\n",
        "'''\n",
        "\n",
        "l1 = ['Ramesh', 'Suresh', 'Mahesh', 'Ali', 'Jacob', 'Saritha'] # given list 1\n",
        "\n",
        "l2 = ['Ali', 'Mukesh', 'Mahesh', 'Jacob', 'Sai', 'Sarita'] # given list 2\n",
        "\n",
        "common_list = [c for c in l1 if c in l2]\n",
        "\n",
        "print(common_list)\n"
      ]
    },
    {
      "cell_type": "code",
      "execution_count": 2,
      "metadata": {
        "colab": {
          "base_uri": "https://localhost:8080/"
        },
        "id": "TXswvjLS4yuF",
        "outputId": "b551a4e8-2dc8-4b7b-ae8a-db0f945a9923"
      },
      "outputs": [
        {
          "name": "stdout",
          "output_type": "stream",
          "text": [
            "['Ramesh', 'Suresh', 'Mohit'] \n",
            "\n",
            "Adding their ages :  73\n",
            "\n",
            "\n",
            "('Ramesh', 25)\n",
            "('Suresh', 22)\n",
            "('Mohit', 26)\n",
            "\n",
            "\n",
            "The sum of their ages is :  73\n"
          ]
        }
      ],
      "source": [
        "'''\n",
        "Q2: While entering data, someone entered a few names as a common string “Ramesh Suresh Mohit”.\n",
        "    Please write a program which separates all the names and converts them into a list.\n",
        "    Once converted into a list, please write a program that adds their age.\n",
        "\n",
        "    Ramesh:  25\n",
        "    Suresh: 22\n",
        "    Mohit: 26\n",
        "'''\n",
        "# Separating all the names and converting them into a list\n",
        "mistake = 'Ramesh Suresh Mohit'\n",
        "\n",
        "names = mistake.split()\n",
        "\n",
        "print(names, '\\n')\n",
        "\n",
        "# Adding their age\n",
        "\n",
        "age = 25 + 22 + 26\n",
        "\n",
        "print ('Adding their ages : ', age)\n",
        "\n",
        "\n",
        "\n",
        "# Alternate Method for adding ages\n",
        "print('\\n')\n",
        "\n",
        "age_1 = [25, 22, 26]\n",
        "\n",
        "for i in zip(names,age_1):\n",
        "  print(i)\n",
        "print('\\n')\n",
        "\n",
        "print('The sum of their ages is : ', sum(age_1))\n"
      ]
    },
    {
      "cell_type": "code",
      "execution_count": 3,
      "metadata": {
        "colab": {
          "base_uri": "https://localhost:8080/"
        },
        "id": "dpmE9f154yws",
        "outputId": "dc210a7b-b2cf-4075-d35f-2fcae92ae64a"
      },
      "outputs": [
        {
          "name": "stdout",
          "output_type": "stream",
          "text": [
            "MEDICAL STORE:\n",
            "One strip of paracetamol costs Rs. 35\n",
            "one strip of azithromycin costs Rs. 49\n",
            "one strip of vitamin c costs Rs. 33\n",
            "\n",
            "The Total Cost: \n",
            "For 2 strips of paracetamol, \n",
            "3 strips of azithromycin, and \n",
            "5 strips of Vitamin C is : Rs. 382\n",
            "\n",
            "Refunded Money : Rs. 1618\n"
          ]
        }
      ],
      "source": [
        "'''\n",
        "Q3: You are working in a medical store. A patient came to your medical store and asked\n",
        "to buy 2 strips of paracetamol, 3 strips of azithromycin, and 5 strips of Vitamin C.\n",
        "One strip of paracetamol costs Rs 35, one strip of azithromycin costs Rs. 49,\n",
        "and one strip of vitamin c costs Rs. 33. Patient gave you Rs 2000.\n",
        "Please tell us what is the total cost of each medicine, the total cost of all medicine,\n",
        "and how much money you refunded to the patient.\n",
        "'''\n",
        "para = 35\n",
        "azith = 49\n",
        "vit_c = 33\n",
        "\n",
        "tot_bill = 0\n",
        "pay = 2000\n",
        "refund = 0\n",
        "\n",
        "print('MEDICAL STORE:')\n",
        "print('One strip of paracetamol costs Rs. {}' .format(para))\n",
        "print('one strip of azithromycin costs Rs. {}' .format(azith))\n",
        "print('one strip of vitamin c costs Rs. {}\\n' .format(vit_c))\n",
        "\n",
        "tot_bill = 2*para + 3*azith + 5*vit_c\n",
        "\n",
        "print('The Total Cost: \\nFor 2 strips of paracetamol, \\n3 strips of azithromycin, and \\n5 strips of Vitamin C is : Rs. {}\\n' .format(tot_bill))\n",
        "\n",
        "refund = pay - tot_bill\n",
        "\n",
        "print('Refunded Money : Rs. {}' .format(refund))\n"
      ]
    },
    {
      "cell_type": "code",
      "execution_count": 4,
      "metadata": {
        "colab": {
          "base_uri": "https://localhost:8080/"
        },
        "id": "f3cD2DWx4yzE",
        "outputId": "8ddebc17-57c6-452e-87f6-a271e7e2c258"
      },
      "outputs": [
        {
          "name": "stdout",
          "output_type": "stream",
          "text": [
            "Hello! Enter a sentence to be checked for the number of vowels\n",
            "I am learning python\n",
            "\n",
            "\n",
            "I am learning python has 6 vowels.\n"
          ]
        }
      ],
      "source": [
        "'''\n",
        "Q4: Accept a sentence as input and find the number of vowels in it.\n",
        "    Assume that the sentence has no punctuation marks.\n",
        "    For example, I am learning python contains 6 vowels.\n",
        "    This function should be applicable for all other different sentences.\n",
        "'''\n",
        "\n",
        "count = 0 # initializing count = 0\n",
        "vowels = ['a', 'e', 'i', 'o', 'u']\n",
        "\n",
        "sen = input('Hello! Enter a sentence to be checked for the number of vowels\\n')\n",
        "print('\\n')\n",
        "\n",
        "sen_2 = sen.lower()\n",
        "\n",
        "for i in range(0,len(sen_2)):\n",
        "  if sen_2[i] in vowels:\n",
        "    count = count +1\n",
        "\n",
        "print('{} has {} vowels.' .format(sen,count))\n"
      ]
    },
    {
      "cell_type": "code",
      "execution_count": 6,
      "metadata": {
        "colab": {
          "base_uri": "https://localhost:8080/"
        },
        "id": "mNcGvg4T4y14",
        "outputId": "501a36d3-6669-4cb6-8f7b-6af5b915c88e"
      },
      "outputs": [
        {
          "name": "stdout",
          "output_type": "stream",
          "text": [
            "Check for the eligibility for Voting\n",
            "Enter your age : 15\n",
            "\n",
            "\n",
            "you have to return after 3 years\n"
          ]
        }
      ],
      "source": [
        "'''\n",
        "Q5: You have been appointed by the election commission to create a website.\n",
        "    Your first task is to work on a program which tells candidates if they are\n",
        "    eligible for voting or not. If they are eligible, your output should be\n",
        "    'Congrats! You are eligible';\n",
        "    otherwise, it should tell that you have to return after X number of years.\n",
        "    The eligibility criteria for voting is 18 years.\n",
        "'''\n",
        "\n",
        "voting_age = 18\n",
        "years = 0\n",
        "\n",
        "print('Check for the eligibility for Voting')\n",
        "age = int(input('Enter your age : '))\n",
        "print('\\n')\n",
        "\n",
        "if age > 0:\n",
        "  if age >= 18:\n",
        "    print('Congrats! You are eligible')\n",
        "  else:\n",
        "    years = voting_age - age\n",
        "    print('you have to return after {} years' .format(years))\n",
        "else:\n",
        "  print('Invalid Input')\n"
      ]
    },
    {
      "cell_type": "code",
      "execution_count": 7,
      "metadata": {
        "colab": {
          "base_uri": "https://localhost:8080/"
        },
        "id": "8OcWqnRU4y4V",
        "outputId": "555e3498-f148-43f4-e380-34b29c75ac2c"
      },
      "outputs": [
        {
          "name": "stdout",
          "output_type": "stream",
          "text": [
            "[1, 3, 6, 10, 15]\n"
          ]
        }
      ],
      "source": [
        "'''\n",
        "Q6: Given a list of integers, find the cumulative sum of the elements of the list\n",
        "    and store them in another list.\n",
        "    A = [1, 2, 3, 4, 5]\n",
        "\n",
        "    Output:\n",
        "    [1, 3, 6, 10, 15]\n",
        "'''\n",
        "\n",
        "B = []\n",
        "sum = 0\n",
        "\n",
        "A = [1, 2, 3, 4, 5]\n",
        "#    0  1  2  3  4\n",
        "\n",
        "l=len(A)\n",
        "\n",
        "for i in range(0, l):\n",
        "  for j in range(0, i+1): # till the next increasing range create loop to add\n",
        "    sum = sum + A[j]\n",
        "  B.append(sum)\n",
        "  sum = 0 # reset the sum for each loop after appending so it doesn't give error\n",
        "\n",
        "print(B) # voila\n"
      ]
    },
    {
      "cell_type": "code",
      "execution_count": 8,
      "metadata": {
        "colab": {
          "base_uri": "https://localhost:8080/"
        },
        "id": "uMpMB4JC4y7E",
        "outputId": "2a4e7663-bdf1-4764-b21f-c280874a94e4"
      },
      "outputs": [
        {
          "name": "stdout",
          "output_type": "stream",
          "text": [
            "Hello! Enter a message to be Encoded\n",
            "The quick brown fox used to sleep inside this box\n",
            "\n",
            "\n",
            "Th qck brwn fx ud t slp ie ths bx \n"
          ]
        }
      ],
      "source": [
        "'''\n",
        "Q7: WAP to encode a message entered by user as per below conditions:\n",
        "    for every word in the sentence,\n",
        "\n",
        "    1. If the word starts with a vowel, encode it as first and last letter of the word.\n",
        "    2. If the word starts with a consonant, remove all vowels from it.\n",
        "\n",
        "    Ensure the case insensitive comparisions/checks are performed.\n",
        "\n",
        "    Please enter your text:The quick brown fox used to sleep inside this box\n",
        "    Encoded Msg: Th qck brwn fx ud t slp ie ths bx\n",
        "'''\n",
        "\n",
        "vowels = ['a', 'e', 'i', 'o', 'u', 'A', 'E', 'I', 'O', 'U']\n",
        "\n",
        "\n",
        "res = '' # resultant string\n",
        "\n",
        "\n",
        "sen = input('Hello! Enter a message to be Encoded\\n')\n",
        "print('\\n')\n",
        "\n",
        "sen_2 = sen.split() # splitting the string\n",
        "\n",
        "length = len(sen_2)\n",
        "\n",
        "\n",
        "for i in sen_2: # every element of the list\n",
        "\n",
        "  if i[0] in vowels: # removes all inside just keeps first and last if in vowel\n",
        "    res += i[0] + i[len(i) -1] + \" \"\n",
        "\n",
        "  elif i[0] not in vowels: # if not in vowel run\n",
        "    str1 = i # store the element in a string\n",
        "    for x in str1: # run a loop passsing through each letter of the string\n",
        "      if x in vowels: # check if that letter is in vowels\n",
        "        str1 = str1.replace(x,'') # if x is a vowel replace it with nothing\n",
        "    res += str1 + ' ' # add to the resultant string\n",
        "\n",
        "\n",
        "print(res)\n",
        "\n",
        "# The quick brown fox used to sleep inside this box"
      ]
    },
    {
      "cell_type": "code",
      "execution_count": 9,
      "metadata": {
        "colab": {
          "base_uri": "https://localhost:8080/"
        },
        "id": "Of0qvN1S4y9m",
        "outputId": "2afcb404-286c-4186-a95b-0c5965613ae6"
      },
      "outputs": [
        {
          "name": "stdout",
          "output_type": "stream",
          "text": [
            "Enter your message to be Encoded : aabbbccdddae\n",
            "\n",
            "Encoded message :  2a3b2c3d1a1e\n"
          ]
        }
      ],
      "source": [
        "'''\n",
        "Q8: Write a program to implement run length encoding of a string\n",
        "\n",
        "    RLE:Consecutive repetition of a character has to be replaced with the count of\n",
        "    occurances and the character.\n",
        "\n",
        "    Enter your string :aabbbccdddae\n",
        "    Encoded: 2a3b2c3d1a1e\n",
        "\n",
        "'''\n",
        "\n",
        "def encoder(code):\n",
        "    encoded = '' # initialization\n",
        "    i = 0        # initialization\n",
        "    count = 0    # initialization\n",
        "    ch = ''      # initialization\n",
        "\n",
        "    while (i <= len(code)-1): # iterates thru each word length gives n and last one's position is (n-1) [till last word that's why <=]\n",
        "        count = 1 # any character by default rises to 1\n",
        "        ch = code[i] # individual letter (if repetition, then increaase)\n",
        "        j = i # putting the same character index in j\n",
        "\n",
        "        while (j < len(code)-1):\n",
        "            if (code[j] == code[j+1]): # next letter equal to that letter\n",
        "                count = count+1 # repeated? add 1 (to already 1 by default)\n",
        "                j = j+1\n",
        "            else: # if not repeated break\n",
        "                break\n",
        "        encoded += str(count) + ch # add strings to encoded\n",
        "        i = j+1 # most imp (puts the letter extractor to the next non similar letter after counting)\n",
        "    return encoded\n",
        "\n",
        "\n",
        "\n",
        "encoded = encoder(input('Enter your message to be Encoded : '))\n",
        "print('\\nEncoded message : ', encoded)\n",
        "\n",
        "# aabbbccdddae"
      ]
    },
    {
      "cell_type": "code",
      "execution_count": null,
      "metadata": {
        "id": "NXYPSk1W4zBD"
      },
      "outputs": [],
      "source": [
        "# FINISHED"
      ]
    },
    {
      "cell_type": "code",
      "execution_count": null,
      "metadata": {
        "id": "2UnFDOoY4zEH"
      },
      "outputs": [],
      "source": []
    },
    {
      "cell_type": "code",
      "execution_count": null,
      "metadata": {
        "id": "a5xptSmj4zGm"
      },
      "outputs": [],
      "source": []
    },
    {
      "cell_type": "code",
      "execution_count": null,
      "metadata": {
        "id": "jA6a9NGk4zJ3"
      },
      "outputs": [],
      "source": []
    },
    {
      "cell_type": "code",
      "execution_count": null,
      "metadata": {
        "id": "Z2VVHGUT4zMs"
      },
      "outputs": [],
      "source": []
    },
    {
      "cell_type": "code",
      "execution_count": null,
      "metadata": {
        "id": "5QIVcBOt4zQm"
      },
      "outputs": [],
      "source": []
    }
  ],
  "metadata": {
    "colab": {
      "provenance": []
    },
    "kernelspec": {
      "display_name": "Python 3",
      "name": "python3"
    },
    "language_info": {
      "name": "python"
    }
  },
  "nbformat": 4,
  "nbformat_minor": 0
}
